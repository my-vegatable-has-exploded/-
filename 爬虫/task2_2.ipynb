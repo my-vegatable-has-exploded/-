{
 "cells": [
  {
   "cell_type": "code",
   "execution_count": 18,
   "metadata": {},
   "outputs": [],
   "source": [
    "# -*- encoding=UTF-8\n",
    "import re\n",
    "import requests\n",
    "from bs4 import BeautifulSoup"
   ]
  },
  {
   "cell_type": "code",
   "execution_count": 69,
   "metadata": {},
   "outputs": [
    {
     "output_type": "stream",
     "name": "stdout",
     "text": "p\n<class 'str'>\n{'class': ['title']}\n<class 'dict'>\n 喵喵喵 \n<class 'bs4.element.NavigableString'>\n"
    }
   ],
   "source": [
    "soup = BeautifulSoup('<p class=\"title\"> 喵喵喵 </p>','html.parser')\n",
    "print(soup.p.name)\n",
    "print(type(soup.p.name))\n",
    "print(soup.p.attrs)\n",
    "print(type(soup.p.attrs))\n",
    "print(soup.p.string)\n",
    "print(type(soup.p.string))"
   ]
  },
  {
   "cell_type": "code",
   "execution_count": 70,
   "metadata": {},
   "outputs": [
    {
     "output_type": "execute_result",
     "data": {
      "text/plain": "'<p class=\"title\">\\n 喵喵喵\\n</p>'"
     },
     "metadata": {},
     "execution_count": 70
    }
   ],
   "source": [
    "soup.prettify()"
   ]
  },
  {
   "cell_type": "code",
   "execution_count": 3,
   "metadata": {},
   "outputs": [],
   "source": [
    "def get_search_result(str):\n",
    "    \"\"\"\n",
    "        Args:\n",
    "            str:输入搜索字符串\n",
    "\n",
    "        Returns:\n",
    "            res:requests返回的response对象\n",
    "\n",
    "        Raises:\n",
    "        statuserror:爬取失败\n",
    "\n",
    "    \"\"\"\n",
    "    args={'user-agent': 'Mozilla/5.0 (Windows NT 10.0; Win64; x64) AppleWebKit/537.36 (KHTML, like Gecko) Chrome/74.0.3729.169 Safari/537.36'}\n",
    "    search={'q': str}\n",
    "    url=\"https://cn.bing.com/\"\n",
    "    try:\n",
    "        res=requests.get(url, headers=args, params=search)\n",
    "        res.raise_for_status()\n",
    "        res.encoding=res.apparent_encoding\n",
    "        print(res.text[:1000])\n",
    "    except:\n",
    "        print(\"spider failed\")\n",
    "    return res"
   ]
  },
  {
   "cell_type": "code",
   "execution_count": 4,
   "metadata": {},
   "outputs": [
    {
     "output_type": "stream",
     "name": "stdout",
     "text": "<!DOCTYPE html><html lang=\"zh\" xml:lang=\"zh\" xmlns=\"http://www.w3.org/1999/xhtml\" xmlns:Web=\"http://schemas.live.com/Web/\"><script type=\"text/javascript\" >//<![CDATA[\nsi_ST=new Date\n//]]></script><head><!--pc--><title>抗疫感想 - 国内版 Bing</title><meta content=\"text/html; charset=utf-8\" http-equiv=\"content-type\" /><meta name=\"referrer\" content=\"origin-when-cross-origin\" /><link href=\"/search?format=rss&amp;q=%E6%8A%97%E7%96%AB%E6%84%9F%E6%83%B3\" rel=\"alternate\" title=\"XML\" type=\"text/xml\" /><link href=\"/search?format=rss&amp;q=%E6%8A%97%E7%96%AB%E6%84%9F%E6%83%B3\" rel=\"alternate\" title=\"RSS\" type=\"application/rss+xml\" /><link href=\"/sa/simg/bing_p_rr_teal_min.ico\" rel=\"shortcut icon\" /><script type=\"text/javascript\">//<![CDATA[\n_G={ST:(si_ST?si_ST:new Date),Mkt:\"zh-CN\",RTL:false,Ver:\"17\",IG:\"B7303E92DD944070A59D61E121DE3FAF\",EventID:\"61B2602C375943DDAB5F7D002E3046B6\",V:\"web\",P:\"SERP\",DA:\"HKG01\",SUIH:\"3KlK0KrrectMRsBry6frTQ\",adc:\"b_ad\",EF:{cookss:1,},gpUrl:\"\\/fd\\/ls\\/GLinkPing.aspx?\" }; _G.\n"
    }
   ],
   "source": [
    "res=get_search_result('抗疫感想')"
   ]
  },
  {
   "cell_type": "code",
   "execution_count": 76,
   "metadata": {
    "tags": [
     "outputPrepend"
    ]
   },
   "outputs": [],
   "source": [
    "soup=BeautifulSoup(res.text, 'html.parser')\n",
    "# print(soup.title.prettify())"
   ]
  },
  {
   "cell_type": "code",
   "execution_count": 79,
   "metadata": {},
   "outputs": [
    {
     "output_type": "stream",
     "name": "stdout",
     "text": "<a class=\"b_logoArea\" h=\"ID=SERP,5026.1\" href=\"/?FORM=Z9FD1\"><h1 aria-label=\"打开必应主页\" class=\"b_logo\" title=\"返回到必应搜索\"></h1></a>\n<a aria-label=\"清除本文\" href=\"javascript:void(0);\" id=\"sw_clx\" role=\"button\" tabindex=\"0\"><div class=\"sw_close\"></div></a>\n<a aria-controls=\"id_d\" aria-expanded=\"false\" aria-haspopup=\"true\" class=\"id_button\" data-clarity-mask=\"true\" h=\"ID=SERP,5027.1\" href=\"javascript:void(0);\" id=\"id_l\" role=\"button\"><span aria-hidden=\"false\" id=\"id_s\">登录</span><span aria-hidden=\"false\" aria-label=\"默认个人资料图片\" class=\"sw_spd id_avatar\" id=\"id_a\"></span><span aria-hidden=\"true\" id=\"id_n\" style=\"display:none\"></span><img alt=\"个人资料图片\" aria-hidden=\"true\" aria-label=\"个人资料图片\" class=\"id_avatar sw_spd\" data-alt=\"\" data-src=\"data:image/gif;base64,R0lGODlhAQABAIAAAAAAAP///yH5BAEAAAEALAAAAAABAAEAAAIBTAA7\" id=\"id_p\" onerror=\"FallBackToDefaultProfilePic(this)\" src=\"data:image/png;base64,iVBORw0KGgoAAAANSUhEUgAAAAEAAAABCAQAAAC1HAwCAAAAC0lEQVR42mNgYAAAAAMAASsJTYQAAAAASUVORK5CYII=\" style=\"display:none\"/></a>\n<a aria-controls=\"id_hbfo\" aria-expanded=\"false\" aria-haspopup=\"true\" aria-label=\"设置和快速链接\" class=\"idp_ham nohphbtop\" h=\"ID=SERP,5033.1\" href=\"javascript:void(0);\" id=\"id_sc\" role=\"button\" tabindex=\"0\"></a>\n<a h=\"ID=SERP,5019.1\" href=\"/?scope=web&amp;FORM=HDRSC1\" target=\"\">网页</a>\n<a h=\"ID=SERP,5020.1\" href=\"/images/search?q=%e6%8a%97%e7%96%ab%e6%84%9f%e6%83%b3&amp;FORM=HDRSC2\" target=\"\">图片</a>\n<a h=\"ID=SERP,5021.1\" href=\"/videos/search?q=%e6%8a%97%e7%96%ab%e6%84%9f%e6%83%b3&amp;FORM=HDRSC3\" target=\"\">视频</a>\n<a h=\"ID=SERP,5022.1\" href=\"/academic/search?q=%e6%8a%97%e7%96%ab%e6%84%9f%e6%83%b3&amp;FORM=HDRSC4\" target=\"\">学术</a>\n<a h=\"ID=SERP,5023.1\" href=\"/dict/search?q=%e6%8a%97%e7%96%ab%e6%84%9f%e6%83%b3&amp;FORM=HDRSC6\" target=\"\">词典</a>\n<a h=\"ID=SERP,5024.1\" href=\"/maps?q=%e6%8a%97%e7%96%ab%e6%84%9f%e6%83%b3&amp;FORM=HDRSC7\" target=\"\">地图</a>\n<a aria-controls=\"d5095\" aria-expanded=\"false\" aria-haspopup=\"true\" aria-label=\"按照 时间不限 筛选\" class=\"ftrH\" h=\"ID=SERP,5288.1\" href=\"javascript:\" id=\"h5095\" role=\"button\"><span class=\"fs_label\">时间不限</span><span class=\"sw_ddbk\"></span> </a>\n<a class=\"itm_img\" h=\"ID=SERP,5307.1\" href=\"https://www.4hw.com.cn/p/438664.html\" tabindex=\"-1\"><img height=\"158\" src=\"/th?id=ON.A7267410ACF9709576BCBA4FEA433D3E&amp;pid=News&amp;w=256&amp;h=158&amp;c=14&amp;rs=2&amp;qlt=90\" title=\"钟南山抗疫感人事迹心得体会800字 致敬钟南山院士优秀范文\" width=\"256\"/></a>\n<a class=\"itm_cap b_overflow wimg\" h=\"ID=SERP,5307.2\" href=\"https://www.4hw.com.cn/p/438664.html\"><div class=\"itm_tlt_snp\"><p class=\"na_t\" style=\"max-height:48px;-webkit-line-clamp:2\">钟南山抗疫感人事迹心得体会800字 致敬钟南山院士优秀范文</p><p class=\"itm_spt\" style=\"max-height:36px;-webkit-line-clamp:2\">在千万网友云监工注视下，2月2日上午，火神山医院举行交付仪式，明日即可收治病人;与此同时，雷神山 …</p></div><div class=\"news_footer\"><div class=\"b_attribution\"><cite title=\"四海网\">四海网<span class=\"b_secondaryText\"> · 57 分钟</span></cite></div></div></a>\n<a class=\"na_ccw\" h=\"ID=SERP,5318.1\" href=\"http://jiangsu.china.com.cn/html/finance/zh/10724875_1.html\"><div class=\"citm_img\" tabindex=\"-1\"><img class=\"rms_img\" height=\"112\" id=\"emb5A7253E9\" src=\"data:image/gif;base64,R0lGODlhAQABAIAAAAAAAP///yH5BAEAAAEALAAAAAABAAEAAAIBTAA7\" title=\"厦门湖里启动抗疫题材院线电影拍摄 致敬时代英雄\" width=\"197\"/></div><div class=\"b_cap citm_cap wimg\"><div class=\"na_t b_promtxt\" style=\"max-height:36px;-webkit-line-clamp:2\">厦门湖里启动抗疫题材院线电影拍摄 致敬时代英雄</div><div class=\"news_footer\"><div class=\"b_attribution\"><cite title=\"china.com.cn\">china.com.cn<span class=\"b_secondaryText\"> · 4 小时</span></cite></div></div></div></a>\n<a class=\"na_ccw\" h=\"ID=SERP,5329.1\" href=\"http://bj.people.com.cn/n2/2020/0423/c82846-33970531.html\"><div class=\"citm_img\" tabindex=\"-1\"><img class=\"rms_img\" height=\"112\" id=\"emb152B5CD58\" src=\"data:image/gif;base64,R0lGODlhAQABAIAAAAAAAP///yH5BAEAAAEALAAAAAABAAEAAAIBTAA7\" title=\"北京西城“阅读春天”开幕 海棠诗会颂歌献给战“疫”逆行者\" width=\"197\"/></div><div class=\"b_cap citm_cap wimg\"><div class=\"na_t b_promtxt\" style=\"max-height:36px;-webkit-line-clamp:2\">北京西城“阅读春天”开幕 海棠诗会颂歌献给战“疫”逆行者</div><div class=\"news_footer\"><div class=\"b_attribution\"><cite title=\"people.com.cn\">people.com.cn<span class=\"b_secondaryText\"> · 3 小时</span></cite></div></div></div></a>\n<a class=\"na_ccw\" h=\"ID=SERP,5340.1\" href=\"http://www.huaxia.com/zhwh/whxx/2020/04/6398818.html\"><div class=\"citm_img\" tabindex=\"-1\"><img class=\"rms_img\" height=\"112\" id=\"emb22BF92DC0\" src=\"data:image/gif;base64,R0lGODlhAQABAIAAAAAAAP///yH5BAEAAAEALAAAAAABAAEAAAIBTAA7\" title=\"国图启动中国战“疫”记忆库建设\" width=\"197\"/></div><div class=\"b_cap citm_cap wimg\"><div class=\"na_t b_promtxt\" style=\"max-height:36px;-webkit-line-clamp:2\">国图启动中国战“疫”记忆库建设</div><div class=\"news_footer\"><div class=\"b_attribution\"><cite title=\"华夏社区\">华夏社区<span class=\"b_secondaryText\"> · 4 小时</span></cite></div></div></div></a>\n<a h=\"ID=SERP,5123.1\" href=\"https://www.qianlaiye.com/news/99718.html\" target=\"_blank\">抗疫心得_抗击疫情心得体会范文6篇-理财-钱来也</a>\n<a h=\"ID=SERP,5138.1\" href=\"https://www.chinactp.org/wen/fanwen/392184.html\" target=\"_blank\">2020普通党员抗疫心得体会范文5篇</a>\n<a h=\"ID=SERP,5379.1\" href=\"https://www.chinactp.org/wen/fanwen/392184.html\">请在 chinactp.org 查看完整列表</a>\n<a h=\"ID=SERP,5153.1\" href=\"https://m.51test.net/show/9848999.html\" target=\"_blank\">抗疫心得体会范文大全【10篇】</a>\n<a h=\"ID=SERP,5168.1\" href=\"https://www.xxmishu.com/news/200419094504770.html\" target=\"_blank\">抗疫志愿活动感想_心得体会文章_心得体会范文_小小秘书网</a>\n<a h=\"ID=SERP,5183.1\" href=\"https://www.jxscct.com/fw/52724/\" target=\"_blank\">抗疫心得体会</a>\n<a h=\"ID=SERP,5198.1\" href=\"http://www.xuexili.com/xindetihui/3254.html\" target=\"_blank\">最新党员抗击疫情工作个人感悟_2020战疫工作心得体会_学习力</a>\n<a h=\"ID=SERP,5212.1\" href=\"http://www.lizhigushi.com/renshengganwu/a21428.html\" target=\"_blank\">抗疫心得体会1000字精选三篇</a>\n<a h=\"ID=SERP,5227.1\" href=\"https://www.chinactp.org/wen/fanwen/408095.html\" target=\"_blank\">抗疫作文_感悟英雄在身边</a>\n<a h=\"ID=SERP,5242.1\" href=\"http://www.xuexili.com/xindetihui/3163.html\" target=\"_blank\">2020防控肺炎疫情党员心得体会精选范文10篇_学习力</a>\n<a h=\"ID=SERP,5256.1\" href=\"https://www.4hw.com.cn/p/438664.html\" target=\"_blank\">钟南山抗疫感人事迹心得体会800字 致敬钟南山院士优秀范文 ...</a>\n<a h=\"ID=SERP,5408.1\" href=\"/search?q=%e6%ad%a6%e6%b1%89%e6%8a%97%e7%96%ab%e6%84%9f%e6%83%b3&amp;FORM=QSRE1\">武汉<strong>抗疫感想</strong></a>\n<a h=\"ID=SERP,5410.1\" href=\"/search?q=%e6%8a%97%e7%96%ab%e6%84%9f%e6%82%9f&amp;FORM=QSRE2\"><strong>抗疫</strong>感悟</a>\n<a h=\"ID=SERP,5412.1\" href=\"/search?q=%e6%8a%97%e7%96%ab%e5%bf%83%e5%be%97&amp;FORM=QSRE3\"><strong>抗疫</strong>心得</a>\n<a h=\"ID=SERP,5414.1\" href=\"/search?q=%e6%8a%97%e7%96%ab%e6%95%85%e4%ba%8b&amp;FORM=QSRE4\"><strong>抗疫</strong>故事</a>\n<a h=\"ID=SERP,5416.1\" href=\"/search?q=%e8%82%ba%e7%82%8e%e6%84%9f%e6%83%b3&amp;FORM=QSRE5\">肺炎<strong>感想</strong></a>\n<a h=\"ID=SERP,5418.1\" href=\"/search?q=%e6%8a%97%e7%96%ab%e5%be%81%e6%96%87&amp;FORM=QSRE6\"><strong>抗疫</strong>征文</a>\n<a h=\"ID=SERP,5420.1\" href=\"/search?q=%e6%8a%97%e7%96%ab%e5%9b%be%e7%89%87&amp;FORM=QSRE7\"><strong>抗疫</strong>图片</a>\n<a h=\"ID=SERP,5422.1\" href=\"/search?q=%e5%8c%bb%e6%8a%a4%e4%ba%ba%e5%91%98&amp;FORM=QSRE8\">医护人员</a>\n<a h=\"ID=SERP,5054.1\" href=\"http://go.microsoft.com/fwlink/?LinkID=617350\">此处</a>\n<a class=\"sb_pagS sb_pagS_bp b_widePag sb_bp\">1</a>\n<a aria-label=\"第 2 页\" class=\"b_widePag sb_bp\" h=\"ID=SERP,5445.1\" href=\"/search?q=%e6%8a%97%e7%96%ab%e6%84%9f%e6%83%b3&amp;first=11&amp;FORM=PERE\">2</a>\n<a aria-label=\"第 3 页\" class=\"b_widePag sb_bp\" h=\"ID=SERP,5446.1\" href=\"/search?q=%e6%8a%97%e7%96%ab%e6%84%9f%e6%83%b3&amp;first=21&amp;FORM=PERE1\">3</a>\n<a aria-label=\"第 4 页\" class=\"b_widePag sb_bp\" h=\"ID=SERP,5447.1\" href=\"/search?q=%e6%8a%97%e7%96%ab%e6%84%9f%e6%83%b3&amp;first=31&amp;FORM=PERE2\">4</a>\n<a aria-label=\"第 5 页\" class=\"b_widePag sb_bp\" h=\"ID=SERP,5448.1\" href=\"/search?q=%e6%8a%97%e7%96%ab%e6%84%9f%e6%83%b3&amp;first=41&amp;FORM=PERE3\">5</a>\n<a class=\"sb_pagN sb_pagN_bp b_widePag sb_bp\" h=\"ID=SERP,5449.1\" href=\"/search?q=%e6%8a%97%e7%96%ab%e6%84%9f%e6%83%b3&amp;first=11&amp;FORM=PORE\" title=\"下一页\"><div class=\"sw_next\">下一页</div></a>\n<a h=\"ID=SERP,5427.1\" href=\"/search?q=%e6%ad%a6%e6%b1%89%e6%8a%97%e7%96%ab%e6%84%9f%e6%83%b3&amp;FORM=R5FD\">武汉<strong>抗疫感想</strong></a>\n<a h=\"ID=SERP,5429.1\" href=\"/search?q=%e6%8a%97%e7%96%ab%e6%84%9f%e6%82%9f&amp;FORM=R5FD1\"><strong>抗疫</strong>感悟</a>\n<a h=\"ID=SERP,5431.1\" href=\"/search?q=%e6%8a%97%e7%96%ab%e5%bf%83%e5%be%97&amp;FORM=R5FD2\"><strong>抗疫</strong>心得</a>\n<a h=\"ID=SERP,5433.1\" href=\"/search?q=%e6%8a%97%e7%96%ab%e6%95%85%e4%ba%8b&amp;FORM=R5FD3\"><strong>抗疫</strong>故事</a>\n<a h=\"ID=SERP,5435.1\" href=\"/search?q=%e8%82%ba%e7%82%8e%e6%84%9f%e6%83%b3&amp;FORM=R5FD4\">肺炎<strong>感想</strong></a>\n<a h=\"ID=SERP,5437.1\" href=\"/search?q=%e6%8a%97%e7%96%ab%e5%be%81%e6%96%87&amp;FORM=R5FD5\"><strong>抗疫</strong>征文</a>\n<a h=\"ID=SERP,5439.1\" href=\"/search?q=%e6%8a%97%e7%96%ab%e5%9b%be%e7%89%87&amp;FORM=R5FD6\"><strong>抗疫</strong>图片</a>\n<a h=\"ID=SERP,5441.1\" href=\"/search?q=%e5%8c%bb%e6%8a%a4%e4%ba%ba%e5%91%98&amp;FORM=R5FD7\">医护人员</a>\n<a h=\"ID=SERP,5044.1\" href=\"http://www.beian.gov.cn/portal/registerSystemInfo?recordcode=11010802022657\" id=\"sb_MMAIS\">京公网安备11010802022657号</a>\n<a h=\"ID=SERP,5045.1\" href=\"http://go.microsoft.com/fwlink/?LinkId=521839\" id=\"sb_privacy\">隐私声明和 Cookie</a>\n<a h=\"ID=SERP,5046.1\" href=\"http://go.microsoft.com/fwlink/?LinkID=246338\" id=\"sb_legal\">法律声明</a>\n<a h=\"ID=SERP,5047.1\" href=\"https://go.microsoft.com/fwlink/?linkid=868922\" id=\"sb_advertise\">广告</a>\n<a h=\"ID=SERP,5049.1\" href=\"https://go.microsoft.com/fwlink/?LinkID=617297&amp;clcid=0x04\" id=\"sb_help\" target=\"_blank\">帮助</a>\n<a h=\"ID=SERP,5050.1\" href=\"#\" id=\"sb_feedback\" role=\"button\">反馈</a>\n<a h=\"ID=SERP,5040.1\" href=\"#\" id=\"fbpgbt\" title=\"反馈\"><span class=\"fbico\"></span><span class=\"fblab\"><span>反馈</span></span></a>\n<a class=\"b_toggle\" h=\"ID=SERP,5271.1\" href=\"/search?q=%e6%8a%97%e7%96%ab%e6%84%9f%e6%83%b3&amp;qpvt=%e6%8a%97%e7%96%ab%e6%84%9f%e6%83%b3\" role=\"menuitem\">全部</a>\n<a class=\"b_toggle\" h=\"ID=SERP,5272.1\" href=\"/search?q=%e6%8a%97%e7%96%ab%e6%84%9f%e6%83%b3&amp;filters=ex1%3a%22ez1%22&amp;qpvt=%e6%8a%97%e7%96%ab%e6%84%9f%e6%83%b3\" role=\"menuitem\">24 小时内</a>\n<a class=\"b_toggle\" h=\"ID=SERP,5273.1\" href=\"/search?q=%e6%8a%97%e7%96%ab%e6%84%9f%e6%83%b3&amp;filters=ex1%3a%22ez2%22&amp;qpvt=%e6%8a%97%e7%96%ab%e6%84%9f%e6%83%b3\" role=\"menuitem\">一周内</a>\n<a class=\"b_toggle\" h=\"ID=SERP,5274.1\" href=\"/search?q=%e6%8a%97%e7%96%ab%e6%84%9f%e6%83%b3&amp;filters=ex1%3a%22ez3%22&amp;qpvt=%e6%8a%97%e7%96%ab%e6%84%9f%e6%83%b3\" role=\"menuitem\">一个月内</a>\n<a class=\"b_toggle\" h=\"ID=SERP,5275.1\" href=\"/search?q=%e6%8a%97%e7%96%ab%e6%84%9f%e6%83%b3&amp;filters=ex1%3a%22ez5_18010_18375%22\" role=\"menuitem\">去年</a>\n"
    }
   ],
   "source": [
    "for i in soup.findAll(name=['a']):\n",
    "    # if 'target' in i.attrs.keys() and i.attrs['target']=='_blank' and i.string!='帮助': #and 'herf' in i.attrs.keys()\n",
    "    print(i)"
   ]
  },
  {
   "cell_type": "code",
   "execution_count": 84,
   "metadata": {},
   "outputs": [
    {
     "output_type": "stream",
     "name": "stdout",
     "text": "抗疫心得_抗击疫情心得体会范文6篇-理财-钱来也 \n https://www.qianlaiye.com/news/99718.html\n2020普通党员抗疫心得体会范文5篇 \n https://www.chinactp.org/wen/fanwen/392184.html\n抗疫心得体会范文大全【10篇】 \n https://m.51test.net/show/9848999.html\n抗疫志愿活动感想_心得体会文章_心得体会范文_小小秘书网 \n https://www.xxmishu.com/news/200419094504770.html\n抗疫心得体会 \n https://www.jxscct.com/fw/52724/\n最新党员抗击疫情工作个人感悟_2020战疫工作心得体会_学习力 \n http://www.xuexili.com/xindetihui/3254.html\n抗疫心得体会1000字精选三篇 \n http://www.lizhigushi.com/renshengganwu/a21428.html\n抗疫作文_感悟英雄在身边 \n https://www.chinactp.org/wen/fanwen/408095.html\n2020防控肺炎疫情党员心得体会精选范文10篇_学习力 \n http://www.xuexili.com/xindetihui/3163.html\n钟南山抗疫感人事迹心得体会800字 致敬钟南山院士优秀范文 ... \n https://www.4hw.com.cn/p/438664.html\n帮助 \n https://go.microsoft.com/fwlink/?LinkID=617297&clcid=0x04\n"
    }
   ],
   "source": [
    "for i in soup.findAll(name=['a'], target='_blank'):\n",
    "    print(i.string,'\\n',i.attrs['href'])"
   ]
  },
  {
   "cell_type": "code",
   "execution_count": 85,
   "metadata": {},
   "outputs": [
    {
     "output_type": "execute_result",
     "data": {
      "text/plain": "[<title>抗疫感想 - 国内版 Bing</title>]"
     },
     "metadata": {},
     "execution_count": 85
    }
   ],
   "source": [
    "soup.findAll(name=re.compile('title'))"
   ]
  },
  {
   "cell_type": "code",
   "execution_count": 83,
   "metadata": {},
   "outputs": [
    {
     "output_type": "stream",
     "name": "stdout",
     "text": "抗疫心得_抗击疫情心得体会范文6篇-理财-钱来也 \n https://www.qianlaiye.com/news/99718.html\n2020普通党员抗疫心得体会范文5篇 \n https://www.chinactp.org/wen/fanwen/392184.html\n抗疫心得体会范文大全【10篇】 \n https://m.51test.net/show/9848999.html\n抗疫志愿活动感想_心得体会文章_心得体会范文_小小秘书网 \n https://www.xxmishu.com/news/200419094504770.html\n抗疫心得体会 \n https://www.jxscct.com/fw/52724/\n最新党员抗击疫情工作个人感悟_2020战疫工作心得体会_学习力 \n http://www.xuexili.com/xindetihui/3254.html\n抗疫心得体会1000字精选三篇 \n http://www.lizhigushi.com/renshengganwu/a21428.html\n抗疫作文_感悟英雄在身边 \n https://www.chinactp.org/wen/fanwen/408095.html\n2020防控肺炎疫情党员心得体会精选范文10篇_学习力 \n http://www.xuexili.com/xindetihui/3163.html\n钟南山抗疫感人事迹心得体会800字 致敬钟南山院士优秀范文 ... \n https://www.4hw.com.cn/p/438664.html\n"
    }
   ],
   "source": [
    "for i in soup.findAll(name=['a'], target='_blank', text=re.compile('[^帮助]')):\n",
    "    print(i.string,'\\n',i.attrs['href'])"
   ]
  },
  {
   "cell_type": "code",
   "execution_count": 92,
   "metadata": {},
   "outputs": [],
   "source": [
    "def clean_search_result(str):\n",
    "    \"\"\"\n",
    "        Args:\n",
    "            str:输入搜索字符串\n",
    "\n",
    "        Returns:\n",
    "            res:返回一组搜索结果和链接\n",
    "\n",
    "        Raises:\n",
    "        statuserror:没有搜索结果\n",
    "        \n",
    "    \"\"\"\n",
    "    res=get_search_result(str)\n",
    "    soup=BeautifulSoup(res.text, 'html.parser')\n",
    "    clean_res=[]\n",
    "    for i in soup.findAll(name=['a'], target='_blank', text=re.compile('[^帮助]')):\n",
    "        print(i.string,'\\n',i.attrs['href'])\n",
    "        clean_res.append((i.string, i.attrs['href']))"
   ]
  },
  {
   "cell_type": "code",
   "execution_count": 91,
   "metadata": {},
   "outputs": [
    {
     "output_type": "stream",
     "name": "stdout",
     "text": "<!DOCTYPE html><html lang=\"zh\" xml:lang=\"zh\" xmlns=\"http://www.w3.org/1999/xhtml\" xmlns:Web=\"http://schemas.live.com/Web/\"><script type=\"text/javascript\" >//<![CDATA[\nsi_ST=new Date\n//]]></script><head><!--pc--><title>抗疫感想 - 国内版 Bing</title><meta content=\"text/html; charset=utf-8\" http-equiv=\"content-type\" /><meta name=\"referrer\" content=\"origin-when-cross-origin\" /><link href=\"/search?format=rss&amp;q=%E6%8A%97%E7%96%AB%E6%84%9F%E6%83%B3\" rel=\"alternate\" title=\"XML\" type=\"text/xml\" /><link href=\"/search?format=rss&amp;q=%E6%8A%97%E7%96%AB%E6%84%9F%E6%83%B3\" rel=\"alternate\" title=\"RSS\" type=\"application/rss+xml\" /><link href=\"/sa/simg/bing_p_rr_teal_min.ico\" rel=\"shortcut icon\" /><script type=\"text/javascript\">//<![CDATA[\n_G={ST:(si_ST?si_ST:new Date),Mkt:\"zh-CN\",RTL:false,Ver:\"17\",IG:\"3699EFC81B714C2188646C90081F9B59\",EventID:\"012AFF4D776347209F96047E87C27137\",V:\"web\",P:\"SERP\",DA:\"HKG01\",SUIH:\"YGEFS_ZR7R6Brx5VchiTlQ\",adc:\"b_ad\",EF:{cookss:1,},gpUrl:\"\\/fd\\/ls\\/GLinkPing.aspx?\" }; _G.\nNone\n"
    }
   ],
   "source": [
    "clean_search_result('抗疫感想'))"
   ]
  }
 ],
 "metadata": {
  "language_info": {
   "codemirror_mode": {
    "name": "ipython",
    "version": 3
   },
   "file_extension": ".py",
   "mimetype": "text/x-python",
   "name": "python",
   "nbconvert_exporter": "python",
   "pygments_lexer": "ipython3",
   "version": "3.7.2-final"
  },
  "orig_nbformat": 2,
  "kernelspec": {
   "name": "0a32ad55-0a7c-4c2f-be72-91cbac48b6da",
   "display_name": "'Python Interactive'"
  }
 },
 "nbformat": 4,
 "nbformat_minor": 2
}
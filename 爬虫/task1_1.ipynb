{
 "nbformat": 4,
 "nbformat_minor": 2,
 "metadata": {
  "language_info": {
   "name": "python",
   "codemirror_mode": {
    "name": "ipython",
    "version": 3
   },
   "version": "3.7.2-final"
  },
  "orig_nbformat": 2,
  "file_extension": ".py",
  "mimetype": "text/x-python",
  "name": "python",
  "npconvert_exporter": "python",
  "pygments_lexer": "ipython3",
  "version": 3,
  "kernelspec": {
   "name": "0a32ad55-0a7c-4c2f-be72-91cbac48b6da",
   "display_name": "'Python Interactive'"
  }
 },
 "cells": [
  {
   "cell_type": "code",
   "execution_count": 14,
   "metadata": {},
   "outputs": [],
   "source": [
    "# -*- encoding=UTF-8"
   ]
  },
  {
   "cell_type": "code",
   "execution_count": 1,
   "metadata": {},
   "outputs": [],
   "source": [
    "import requests"
   ]
  },
  {
   "cell_type": "code",
   "execution_count": 3,
   "metadata": {
    "tags": [
     "outputPrepend"
    ]
   },
   "outputs": [
    {
     "output_type": "stream",
     "name": "stdout",
     "text": "<!DOCTYPE html><html lang=\"zh\"><script type=\"text/javascript\" >//<![CDATA[\nsi_ST=new Date\n//]]></script><head><link id=\"bgLink\" rel=\"preload\" href=\"/th?id=OHR.GPS_ZH-CN5160095061_1920x1080.jpg&amp;rf=LaDigue_1920x1080.jpg&amp;pid=hp\" as=\"image\" /><link rel=\"preload\" href=\"/sa/simg/hpc27.png\" as=\"image\" /><meta content=\"text/html; charset=utf-8\" http-equiv=\"content-type\"/><script type=\"text/javascript\">//<![CDATA[\n/*!DisableJavascriptProfiler*/\n0;\n;/*!DisableJavascriptProfiler*/\n0;/*!DisableJavascriptProfiler*/\n0;\n;_G={ST:(si_ST?si_ST:new Date),Mkt:\"zh-CN\",RTL:false,Ver:\"17\",IG:\"7375074295AE428781B8D4ACB9B8698A\",EventID:\"4DD1CD4523D84E6DA964C384450EC150\",V:\"homepage\",P:\"SERP\",DA:\"HKG01\",CID:\"0CDCEFAC5E3165D53A6FE11F5F1F64F3\",SUIH:\"-LidTqEHcrYa-yiodUN-cw\",adc:\"b_ad\",gpUrl:\"\\/fd\\/ls\\/GLinkPing.aspx?\" }; _G.lsUrl=\"/fd/ls/l?IG=\"+_G.IG+\"&CID=\"+_G.CID ;curUrl=\"https:\\/\\/cn.bing.com\\/\";function si_T(a){ if(document.images){_G.GPImg=new Image;_G.GPImg.src=_G.gpUrl+'IG='+_G.IG+'&CID='+_G.C\n"
    }
   ],
   "source": [
    "url=\"https://bing.com/\"\n",
    "try:\n",
    "    res=requests.get(url)\n",
    "    res.raise_for_status()\n",
    "    res.encoding=res.apparent_encoding\n",
    "    print(res.text[:1000])\n",
    "except:\n",
    "    print(\"spider failed\")"
   ]
  },
  {
   "cell_type": "code",
   "execution_count": 12,
   "metadata": {},
   "outputs": [
    {
     "output_type": "stream",
     "name": "stdout",
     "text": "spider failed\n"
    },
    {
     "output_type": "execute_result",
     "data": {
      "text/plain": "503"
     },
     "metadata": {},
     "execution_count": 12
    }
   ],
   "source": [
    "url=\"https://www.amazon.com/\"\n",
    "try:\n",
    "    res=requests.get(url)\n",
    "    res.raise_for_status()\n",
    "    res.encoding=res.apparent_encoding\n",
    "    print(res.text[:1000])\n",
    "except:\n",
    "    print(\"spider failed\")\n",
    "res.status_code"
   ]
  },
  {
   "cell_type": "code",
   "execution_count": 13,
   "metadata": {},
   "outputs": [
    {
     "output_type": "stream",
     "name": "stdout",
     "text": "<!DOCTYPE html>\n<!--[if lt IE 7]> <html lang=\"en-us\" class=\"a-no-js a-lt-ie9 a-lt-ie8 a-lt-ie7\"> <![endif]-->\n<!--[if IE 7]>    <html lang=\"en-us\" class=\"a-no-js a-lt-ie9 a-lt-ie8\"> <![endif]-->\n<!--[if IE 8]>    <html lang=\"en-us\" class=\"a-no-js a-lt-ie9\"> <![endif]-->\n<!--[if gt IE 8]><!-->\n<html class=\"a-no-js\" lang=\"en-us\"><!--<![endif]--><head>\n<meta http-equiv=\"content-type\" content=\"text/html; charset=UTF-8\">\n<meta charset=\"utf-8\">\n<meta http-equiv=\"X-UA-Compatible\" content=\"IE=edge,chrome=1\">\n<title dir=\"ltr\">Robot Check</title>\n<meta name=\"viewport\" content=\"width=device-width\">\n<link rel=\"stylesheet\" href=\"https://images-na.ssl-images-amazon.com/images/G/01/AUIClients/AmazonUI-3c913031596ca78a3768f4e934b1cc02ce238101.secure.min._V1_.css\">\n<script>\n\nif (true === true) {\n    var ue_t0 = (+ new Date()),\n        ue_csm = window,\n        ue = { t0: ue_t0, d: function() { return (+new Date() - ue_t0); } },\n        ue_furl = \"fls-na.amazon.com\",\n        ue_mid = \"ATVPDKIKX0DER\",\n   \n"
    }
   ],
   "source": [
    "args={'user-agent': 'Mozilla/5.0 (Windows NT 10.0; Win64; x64) AppleWebKit/537.36 (KHTML, like Gecko) Chrome/74.0.3729.169 Safari/537.36'}\n",
    "url=\"https://www.amazon.com/\"\n",
    "try:\n",
    "    res=requests.get(url, headers=args)\n",
    "    res.raise_for_status()\n",
    "    res.encoding=res.apparent_encoding\n",
    "    print(res.text[:1000])\n",
    "except:\n",
    "    print(\"spider failed\")"
   ]
  },
  {
   "cell_type": "code",
   "execution_count": 26,
   "metadata": {},
   "outputs": [
    {
     "output_type": "stream",
     "name": "stdout",
     "text": "<!DOCTYPE html><html lang=\"zh\" xml:lang=\"zh\" xmlns=\"http://www.w3.org/1999/xhtml\" xmlns:Web=\"http://schemas.live.com/Web/\"><script type=\"text/javascript\" >//<![CDATA[\nsi_ST=new Date\n//]]></script><head><!--pc--><title>抗疫感想 - 国内版 Bing</title><meta content=\"text/html; charset=utf-8\" http-equiv=\"content-type\" /><meta name=\"referrer\" content=\"origin-when-cross-origin\" /><link href=\"/search?format=rss&amp;q=%E6%8A%97%E7%96%AB%E6%84%9F%E6%83%B3\" rel=\"alternate\" title=\"XML\" type=\"text/xml\" /><link href=\"/search?format=rss&amp;q=%E6%8A%97%E7%96%AB%E6%84%9F%E6%83%B3\" rel=\"alternate\" title=\"RSS\" type=\"application/rss+xml\" /><link href=\"/sa/simg/bing_p_rr_teal_min.ico\" rel=\"shortcut icon\" /><script type=\"text/javascript\">//<![CDATA[\n_G={ST:(si_ST?si_ST:new Date),Mkt:\"zh-CN\",RTL:false,Ver:\"17\",IG:\"9CDE8D1978234270A06413231A038E85\",EventID:\"5B7637E4FE4843468F150E7F9A74E9D8\",V:\"web\",P:\"SERP\",DA:\"HKG01\",SUIH:\"7GiK4ReVhrjrYf82QMYB1Q\",adc:\"b_ad\",EF:{cookss:1,},gpUrl:\"\\/fd\\/ls\\/GLinkPing.aspx?\" }; _G.\n"
    }
   ],
   "source": [
    "args={'user-agent': 'Mozilla/5.0 (Windows NT 10.0; Win64; x64) AppleWebKit/537.36 (KHTML, like Gecko) Chrome/74.0.3729.169 Safari/537.36'}\n",
    "search={'q': '抗疫感想'}\n",
    "url=\"https://www.bing.com/\"\n",
    "try:\n",
    "    res=requests.get(url, headers=args, params=search)\n",
    "    res.raise_for_status()\n",
    "    res.encoding=res.apparent_encoding\n",
    "    print(res.text[:1000])\n",
    "except:\n",
    "    print(\"spider failed\")"
   ]
  },
  {
   "cell_type": "code",
   "execution_count": 28,
   "metadata": {},
   "outputs": [
    {
     "output_type": "stream",
     "name": "stdout",
     "text": "{'q': '抗疫感想'}\nhttps://cn.bing.com/search?q=%E6%8A%97%E7%96%AB%E6%84%9F%E6%83%B3\n抗疫感想\n"
    }
   ],
   "source": [
    "print(repr(search))\n",
    "print(res.request.url)\n",
    "print(search['q'])"
   ]
  }
 ]
}
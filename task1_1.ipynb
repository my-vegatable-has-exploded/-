{
 "nbformat": 4,
 "nbformat_minor": 2,
 "metadata": {
  "language_info": {
   "name": "python",
   "codemirror_mode": {
    "name": "ipython",
    "version": 3
   },
   "version": "3.7.2-final"
  },
  "orig_nbformat": 2,
  "file_extension": ".py",
  "mimetype": "text/x-python",
  "name": "python",
  "npconvert_exporter": "python",
  "pygments_lexer": "ipython3",
  "version": 3,
  "kernelspec": {
   "name": "0a32ad55-0a7c-4c2f-be72-91cbac48b6da",
   "display_name": "'Python Interactive'"
  }
 },
 "cells": [
  {
   "cell_type": "code",
   "execution_count": 1,
   "metadata": {},
   "outputs": [],
   "source": [
    "import requests"
   ]
  },
  {
   "cell_type": "code",
   "execution_count": 3,
   "metadata": {
    "tags": [
     "outputPrepend"
    ]
   },
   "outputs": [
    {
     "output_type": "stream",
     "name": "stdout",
     "text": "<!DOCTYPE html><html lang=\"zh\"><script type=\"text/javascript\" >//<![CDATA[\nsi_ST=new Date\n//]]></script><head><link id=\"bgLink\" rel=\"preload\" href=\"/th?id=OHR.GPS_ZH-CN5160095061_1920x1080.jpg&amp;rf=LaDigue_1920x1080.jpg&amp;pid=hp\" as=\"image\" /><link rel=\"preload\" href=\"/sa/simg/hpc27.png\" as=\"image\" /><meta content=\"text/html; charset=utf-8\" http-equiv=\"content-type\"/><script type=\"text/javascript\">//<![CDATA[\n/*!DisableJavascriptProfiler*/\n0;\n;/*!DisableJavascriptProfiler*/\n0;/*!DisableJavascriptProfiler*/\n0;\n;_G={ST:(si_ST?si_ST:new Date),Mkt:\"zh-CN\",RTL:false,Ver:\"17\",IG:\"7375074295AE428781B8D4ACB9B8698A\",EventID:\"4DD1CD4523D84E6DA964C384450EC150\",V:\"homepage\",P:\"SERP\",DA:\"HKG01\",CID:\"0CDCEFAC5E3165D53A6FE11F5F1F64F3\",SUIH:\"-LidTqEHcrYa-yiodUN-cw\",adc:\"b_ad\",gpUrl:\"\\/fd\\/ls\\/GLinkPing.aspx?\" }; _G.lsUrl=\"/fd/ls/l?IG=\"+_G.IG+\"&CID=\"+_G.CID ;curUrl=\"https:\\/\\/cn.bing.com\\/\";function si_T(a){ if(document.images){_G.GPImg=new Image;_G.GPImg.src=_G.gpUrl+'IG='+_G.IG+'&CID='+_G.C\n"
    }
   ],
   "source": [
    "url=\"https://bing.com/\"\n",
    "try:\n",
    "    res=requests.get(url)\n",
    "    res.raise_for_status()\n",
    "    res.encoding=res.apparent_encoding\n",
    "    print(res.text[:1000])\n",
    "except:\n",
    "    print(\"spider failed\")"
   ]
  },
  {
   "cell_type": "code",
   "execution_count": 7,
   "metadata": {},
   "outputs": [
    {
     "output_type": "stream",
     "name": "stdout",
     "text": "spider failed\n"
    }
   ],
   "source": [
    "args={'user-agent':'user-agent': 'Mozilla/5.0 (Windows NT 10.0; Win64; x64) AppleWebKit/537.36 (KHTML, like Gecko) Chrome/74.0.3729.169 Safari/537.36'}\n",
    "url=\"https://www.amazon.com/\"\n",
    "try:\n",
    "    res=requests.get(url, headers=args)\n",
    "    res.raise_for_status()\n",
    "    res.encoding=res.apparent_encoding\n",
    "    print(res.text[:1000])\n",
    "except:\n",
    "    print(\"spider failed\")"
   ]
  },
  {
   "cell_type": "code",
   "execution_count": 6,
   "metadata": {},
   "outputs": [
    {
     "output_type": "execute_result",
     "data": {
      "text/plain": "503"
     },
     "metadata": {},
     "execution_count": 6
    }
   ],
   "source": [
    "res.status_code"
   ]
  }
 ]
}